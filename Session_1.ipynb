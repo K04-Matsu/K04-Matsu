{
  "nbformat": 4,
  "nbformat_minor": 0,
  "metadata": {
    "colab": {
      "name": "Session #1.ipynb",
      "provenance": [],
      "authorship_tag": "ABX9TyMx3X2BHI4i7rWjuy4U9gWO",
      "include_colab_link": true
    },
    "kernelspec": {
      "name": "python3",
      "display_name": "Python 3"
    },
    "language_info": {
      "name": "python"
    }
  },
  "cells": [
    {
      "cell_type": "markdown",
      "metadata": {
        "id": "view-in-github",
        "colab_type": "text"
      },
      "source": [
        "<a href=\"https://colab.research.google.com/github/K04-Matsu/K04-Matsu/blob/main/Session_1.ipynb\" target=\"_parent\"><img src=\"https://colab.research.google.com/assets/colab-badge.svg\" alt=\"Open In Colab\"/></a>"
      ]
    },
    {
      "cell_type": "markdown",
      "metadata": {
        "id": "KARqxOx4vZCj"
      },
      "source": [
        "#Programming exercise\n",
        "Writing a program that calculates the addition of all interger number from 0 to 2021. \\\\\n",
        "The arithmetic sequence will be used for our calculation program. \\\\\n",
        "*sum=1/2*n(1+n)*\n",
        "\n",
        "\n"
      ]
    },
    {
      "cell_type": "code",
      "metadata": {
        "id": "Qex5Et5ysa3c"
      },
      "source": [
        "start_num = 0\n",
        "end_num = 2021\n",
        "\n",
        "n = end_num - start_num\n",
        "\n",
        "result = n*(1+n)/2\n",
        "\n",
        "print(\"The result is\",result)"
      ],
      "execution_count": null,
      "outputs": []
    },
    {
      "cell_type": "markdown",
      "metadata": {
        "id": "nbXXvN3t0dor"
      },
      "source": [
        ""
      ]
    },
    {
      "cell_type": "code",
      "metadata": {
        "colab": {
          "base_uri": "https://localhost:8080/"
        },
        "id": "B3zbC4aaywLV",
        "outputId": "a6a89a2d-2bb2-4117-cbd5-dae529915bad"
      },
      "source": [
        "x = int(input(\"Enter a integer\"))\n",
        "\n",
        "y = 2*(x+3)-3\n",
        "\n",
        "print(y)\n"
      ],
      "execution_count": null,
      "outputs": [
        {
          "output_type": "stream",
          "text": [
            "Enter a integer3\n",
            "9\n"
          ],
          "name": "stdout"
        }
      ]
    },
    {
      "cell_type": "markdown",
      "metadata": {
        "id": "g40PSNQo07eG"
      },
      "source": [
        ""
      ]
    },
    {
      "cell_type": "code",
      "metadata": {
        "id": "tkprUED70cUO",
        "colab": {
          "base_uri": "https://localhost:8080/"
        },
        "outputId": "01c45b20-1cc1-4181-f99a-038044148410"
      },
      "source": [
        "\n",
        "first = input(\"Your first name \")\n",
        "last = input(\"Your last name \")\n",
        "grade = int(input(\"Your grade \"))\n",
        "year = (2034 - grade)\n",
        "\n",
        "print(f\"{year}.{first}.{last}@uwcisak.jp\")"
      ],
      "execution_count": 1,
      "outputs": [
        {
          "output_type": "stream",
          "text": [
            "Your first name kojiro\n",
            "Your last name matsumoto\n",
            "Your grade 11\n",
            "2023.kojiro.matsumoto@uwcisak.jp\n"
          ],
          "name": "stdout"
        }
      ]
    }
  ]
}