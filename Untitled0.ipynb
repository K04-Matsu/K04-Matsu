{
  "nbformat": 4,
  "nbformat_minor": 0,
  "metadata": {
    "colab": {
      "name": "Untitled0.ipynb",
      "provenance": [],
      "authorship_tag": "ABX9TyNmihRLaFO0g8eIWXDdKR15",
      "include_colab_link": true
    },
    "kernelspec": {
      "name": "python3",
      "display_name": "Python 3"
    },
    "language_info": {
      "name": "python"
    }
  },
  "cells": [
    {
      "cell_type": "markdown",
      "metadata": {
        "id": "view-in-github",
        "colab_type": "text"
      },
      "source": [
        "<a href=\"https://colab.research.google.com/github/K04-Matsu/K04-Matsu/blob/main/Untitled0.ipynb\" target=\"_parent\"><img src=\"https://colab.research.google.com/assets/colab-badge.svg\" alt=\"Open In Colab\"/></a>"
      ]
    },
    {
      "cell_type": "markdown",
      "metadata": {
        "id": "LDuJaq4wdo0o"
      },
      "source": [
        "## **List of Squares**\n",
        "**Statement**: \n",
        "For a given integer N, print all the squares of integer numbers where the square is less than or equal to N, in ascending order."
      ]
    },
    {
      "cell_type": "code",
      "metadata": {
        "colab": {
          "base_uri": "https://localhost:8080/"
        },
        "id": "b1nt76bvdhnj",
        "outputId": "8d2440fa-6425-42d0-8de8-22734d26c8e4"
      },
      "source": [
        "#1 Read an integer:\n",
        "n = int(input())\n",
        "#2 Set an integer:\n",
        "x = 1\n",
        "#3 Set a while loop condition so that the program can print the squared numbers until the condition is false:\n",
        "while x**2 <= n:\n",
        "#4 Print the squared numbers:\n",
        "    print(x**2)\n",
        "#5 Add 1 each time the loop happens so that the loop can end:\n",
        "    x += 1"
      ],
      "execution_count": 1,
      "outputs": [
        {
          "output_type": "stream",
          "name": "stdout",
          "text": [
            "50\n",
            "1\n",
            "4\n",
            "9\n",
            "16\n",
            "25\n",
            "36\n",
            "49\n"
          ]
        }
      ]
    },
    {
      "cell_type": "markdown",
      "metadata": {
        "id": "Bsds-uCYe45e"
      },
      "source": [
        "## **Least Divisor**\n",
        "**Statement**: \n",
        "Given an integer not less than 2. Print its smallest integer divisor greater than 1.\n"
      ]
    },
    {
      "cell_type": "code",
      "metadata": {
        "colab": {
          "base_uri": "https://localhost:8080/"
        },
        "id": "eBReXFxLe4pm",
        "outputId": "b2771d5b-283c-4c36-f72e-0c7686e10884"
      },
      "source": [
        "#1 Read an integer, set an base integer for the loop:\n",
        "n = int(input())\n",
        "x = 2\n",
        "\n",
        "#2 Create a while condition to find the smallest divisor greater than 1, and add an 1 everytime the loop happens\n",
        "while n % x != 0:\n",
        "    x += 1\n",
        "    \n",
        "#3 Print\n",
        "print(x)"
      ],
      "execution_count": 2,
      "outputs": [
        {
          "output_type": "stream",
          "name": "stdout",
          "text": [
            "15\n",
            "3\n"
          ]
        }
      ]
    },
    {
      "cell_type": "markdown",
      "metadata": {
        "id": "Qdh5fxiXhGzw"
      },
      "source": [
        ""
      ]
    },
    {
      "cell_type": "code",
      "metadata": {
        "id": "wB5BSjaahG9p"
      },
      "source": [
        ""
      ],
      "execution_count": null,
      "outputs": []
    }
  ]
}