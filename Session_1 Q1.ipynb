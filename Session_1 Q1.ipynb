{
  "nbformat": 4,
  "nbformat_minor": 0,
  "metadata": {
    "colab": {
      "name": "Session #1.ipynb",
      "provenance": [],
      "authorship_tag": "ABX9TyMLr2Iv6tRzuj2UEdo5r6S7",
      "include_colab_link": true
    },
    "kernelspec": {
      "name": "python3",
      "display_name": "Python 3"
    },
    "language_info": {
      "name": "python"
    }
  },
  "cells": [
    {
      "cell_type": "markdown",
      "metadata": {
        "id": "view-in-github",
        "colab_type": "text"
      },
      "source": [
        "<a href=\"https://colab.research.google.com/github/K04-Matsu/K04-Matsu/blob/main/Session_1%20Q1.ipynb\" target=\"_parent\"><img src=\"https://colab.research.google.com/assets/colab-badge.svg\" alt=\"Open In Colab\"/></a>"
      ]
    },
    {
      "cell_type": "markdown",
      "metadata": {
        "id": "KARqxOx4vZCj"
      },
      "source": [
        "#Programming exercise\n",
        "Writing a program that calculates the addition of all interger number from 0 to 2021. \\\\\n",
        "The arithmetic sequence will be used for our calculation program. \\\\\n",
        "*sum=1/2*n(1+n)*\n",
        "\n",
        "\n"
      ]
    },
    {
      "cell_type": "code",
      "metadata": {
        "colab": {
          "base_uri": "https://localhost:8080/"
        },
        "id": "Qex5Et5ysa3c",
        "outputId": "25bef9a6-1e49-4c57-bbba-d616a20d9bbe"
      },
      "source": [
        "start_num = 0\n",
        "end_num = 2021\n",
        "\n",
        "n = end_num - start_num\n",
        "\n",
        "result = n*(1+n)/2\n",
        "\n",
        "print(\"The result is\",result)"
      ],
      "execution_count": 1,
      "outputs": [
        {
          "output_type": "stream",
          "text": [
            "The result is 2043231.0\n"
          ],
          "name": "stdout"
        }
      ]
    },
    {
      "cell_type": "code",
      "metadata": {
        "colab": {
          "base_uri": "https://localhost:8080/"
        },
        "id": "aBCn7WcAyCIi",
        "outputId": "2f8179d4-d646-4b8f-f07d-c4bde175f7e8"
      },
      "source": [
        "print(f\"The result is {result}\")"
      ],
      "execution_count": 2,
      "outputs": [
        {
          "output_type": "stream",
          "text": [
            "The result is 2043231.0\n"
          ],
          "name": "stdout"
        }
      ]
    }
  ]
}