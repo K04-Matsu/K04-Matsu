{
  "nbformat": 4,
  "nbformat_minor": 0,
  "metadata": {
    "colab": {
      "name": "Mystery_box_tasks.ipynb",
      "provenance": [],
      "authorship_tag": "ABX9TyOTiBjxCsskT60QseI/hEbf",
      "include_colab_link": true
    },
    "kernelspec": {
      "name": "python3",
      "display_name": "Python 3"
    },
    "language_info": {
      "name": "python"
    }
  },
  "cells": [
    {
      "cell_type": "markdown",
      "metadata": {
        "id": "view-in-github",
        "colab_type": "text"
      },
      "source": [
        "<a href=\"https://colab.research.google.com/github/K04-Matsu/K04-Matsu/blob/main/Mystery_box_tasks.ipynb\" target=\"_parent\"><img src=\"https://colab.research.google.com/assets/colab-badge.svg\" alt=\"Open In Colab\"/></a>"
      ]
    },
    {
      "cell_type": "markdown",
      "metadata": {
        "id": "7RDEbj6BrQHr"
      },
      "source": [
        "# Mystery box1: Reversing a Word\n",
        "### A mystery box where the input word becomes reversed, and also gets capitalized from users True and False input."
      ]
    },
    {
      "cell_type": "code",
      "metadata": {
        "colab": {
          "base_uri": "https://localhost:8080/"
        },
        "id": "tGAzBL6qm9Ol",
        "outputId": "b54e3fd4-fca7-4dcb-9f0d-38287ef4a179"
      },
      "source": [
        "#1 Create a function for the mystery box\n",
        "def mystery_box1(word,capital):\n",
        "\n",
        "#2 A returning from the function for output\n",
        "    reverse = \"\"\n",
        "#3 If statement to check the capital \n",
        "    if capital == True:\n",
        "#4 Loop for reversing the word letter by letter and add them to the return(reverse)\n",
        "        for i in range(len(word)):\n",
        "            reverse += word[len(word) - i - 1]\n",
        "\n",
        "#5 Else statment for the False, and lower command to lower the letters\n",
        "    else:\n",
        "        word2 = word.lower()\n",
        "#6 Same process as #4\n",
        "        for i in range(len(word2)):\n",
        "            reverse += word2[len(word2) - i - 1]\n",
        "\n",
        "#7 Return the reverse\n",
        "    return reverse\n",
        "\n",
        "\n",
        "#8 Define the result for print, and print\n",
        "result=mystery_box1(\"Hello\",True)\n",
        "print(result)\n",
        "result=mystery_box1(\"Hello\",False)\n",
        "print(result)"
      ],
      "execution_count": null,
      "outputs": [
        {
          "output_type": "stream",
          "name": "stdout",
          "text": [
            "olleH\n",
            "olleh\n"
          ]
        }
      ]
    },
    {
      "cell_type": "markdown",
      "metadata": {
        "id": "BdmLGuwtyX1i"
      },
      "source": [
        "#Mystery box 2: Seperating name from email\n",
        "### A mystery box where it seperates the first name and last name from input email. "
      ]
    },
    {
      "cell_type": "code",
      "metadata": {
        "colab": {
          "base_uri": "https://localhost:8080/"
        },
        "id": "y7MCKRZvuDhD",
        "outputId": "061550fa-ca74-4742-ae4d-8c560d95d00e"
      },
      "source": [
        "def mystery_box2 (email):\n",
        "    str(email)\n",
        "    first = email.split(\".\")[0:1]\n",
        "    name = email.split(\"@\")[0:1]\n",
        "    last = str(name).split(\".\")[1:]\n",
        "    mail=email.split(\"@\")[1::]\n",
        "    return first, last, mail\n",
        "\n",
        "output3 = mystery_box2(\"kojiro.matsumoto@uwcisak.jp\")\n",
        "print(output3)"
      ],
      "execution_count": 2,
      "outputs": [
        {
          "output_type": "stream",
          "name": "stdout",
          "text": [
            "(['kojiro'], [\"matsumoto']\"], ['uwcisak.jp'])\n"
          ]
        }
      ]
    },
    {
      "cell_type": "markdown",
      "metadata": {
        "id": "yAo0i9T1-uAd"
      },
      "source": [
        "#Mystery box 3: Average of IB score\n",
        "### A mystery box to fliter the input lists by numbers less than 7 and find the average of filtered input list.\n"
      ]
    },
    {
      "cell_type": "code",
      "metadata": {
        "colab": {
          "base_uri": "https://localhost:8080/"
        },
        "id": "7x-OSvl5-MKN",
        "outputId": "5cd68e52-9c2d-4aa1-e083-bb323715ed09"
      },
      "source": [
        "def mystery_box3(s1,s2,s3,s4,s5,s6,s7):\n",
        "    total=s1+s2+s3+s4+s5+s6+s7\n",
        "    num=7\n",
        "    if s1>7:\n",
        "        total-=s1\n",
        "        num -= 1\n",
        "    if s2>7:\n",
        "        total-=s2\n",
        "        num -= 1\n",
        "    if s3>7:\n",
        "        total-=s3\n",
        "        num -= 1\n",
        "    if s4>7:\n",
        "        total-=s4\n",
        "        num -= 1\n",
        "    if s5>7:\n",
        "        total-=s5\n",
        "        num -= 1\n",
        "    if s6>7:\n",
        "        total-=s6\n",
        "        num -= 1\n",
        "    if s7>7:\n",
        "        total-=s7\n",
        "        num -= 1\n",
        "    avrg=total/num\n",
        "    return avrg\n",
        "\n",
        "result = ibscore(5,6,3,8,1,7,9)\n",
        "print(result)"
      ],
      "execution_count": 4,
      "outputs": [
        {
          "output_type": "stream",
          "name": "stdout",
          "text": [
            "4.4\n"
          ]
        }
      ]
    }
  ]
}